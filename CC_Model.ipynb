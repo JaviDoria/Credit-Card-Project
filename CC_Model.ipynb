{
 "cells": [
  {
   "cell_type": "markdown",
   "id": "97fba3f8-e26a-46af-b18c-baa18befbf37",
   "metadata": {},
   "source": [
    "# 1º Loading the data using Pandas and creating the DF."
   ]
  },
  {
   "cell_type": "code",
   "execution_count": 1,
   "id": "c0b0449d-fa0d-4ec9-ba17-b162dd53f7be",
   "metadata": {},
   "outputs": [
    {
     "data": {
      "text/html": [
       "<div>\n",
       "<style scoped>\n",
       "    .dataframe tbody tr th:only-of-type {\n",
       "        vertical-align: middle;\n",
       "    }\n",
       "\n",
       "    .dataframe tbody tr th {\n",
       "        vertical-align: top;\n",
       "    }\n",
       "\n",
       "    .dataframe thead th {\n",
       "        text-align: right;\n",
       "    }\n",
       "</style>\n",
       "<table border=\"1\" class=\"dataframe\">\n",
       "  <thead>\n",
       "    <tr style=\"text-align: right;\">\n",
       "      <th></th>\n",
       "      <th>id</th>\n",
       "      <th>first_name</th>\n",
       "      <th>last_name</th>\n",
       "      <th>age</th>\n",
       "      <th>email</th>\n",
       "      <th>gender</th>\n",
       "      <th>marital_status</th>\n",
       "      <th>number_of_children</th>\n",
       "      <th>education_level</th>\n",
       "      <th>job</th>\n",
       "      <th>salary</th>\n",
       "      <th>savings</th>\n",
       "      <th>housing</th>\n",
       "      <th>current_loans</th>\n",
       "      <th>monthly_expenses</th>\n",
       "    </tr>\n",
       "  </thead>\n",
       "  <tbody>\n",
       "    <tr>\n",
       "      <th>0</th>\n",
       "      <td>1</td>\n",
       "      <td>Bevon</td>\n",
       "      <td>Tizard</td>\n",
       "      <td>60</td>\n",
       "      <td>btizard0@xing.com</td>\n",
       "      <td>Female</td>\n",
       "      <td>married</td>\n",
       "      <td>5</td>\n",
       "      <td>PhD</td>\n",
       "      <td>Unemployed</td>\n",
       "      <td>136225.54</td>\n",
       "      <td>36718.79</td>\n",
       "      <td>Yes</td>\n",
       "      <td>No</td>\n",
       "      <td>23426.31</td>\n",
       "    </tr>\n",
       "    <tr>\n",
       "      <th>1</th>\n",
       "      <td>2</td>\n",
       "      <td>Barr</td>\n",
       "      <td>Agent</td>\n",
       "      <td>95</td>\n",
       "      <td>bagent1@auda.org.au</td>\n",
       "      <td>Male</td>\n",
       "      <td>married</td>\n",
       "      <td>2</td>\n",
       "      <td>High School Diploma</td>\n",
       "      <td>Unemployed</td>\n",
       "      <td>198086.78</td>\n",
       "      <td>179546.81</td>\n",
       "      <td>Yes</td>\n",
       "      <td>No</td>\n",
       "      <td>15016.60</td>\n",
       "    </tr>\n",
       "    <tr>\n",
       "      <th>2</th>\n",
       "      <td>3</td>\n",
       "      <td>Afton</td>\n",
       "      <td>Mandres</td>\n",
       "      <td>55</td>\n",
       "      <td>amandres2@reverbnation.com</td>\n",
       "      <td>Female</td>\n",
       "      <td>divorced</td>\n",
       "      <td>2</td>\n",
       "      <td>High School Diploma</td>\n",
       "      <td>Unemployed</td>\n",
       "      <td>113319.98</td>\n",
       "      <td>217243.06</td>\n",
       "      <td>No</td>\n",
       "      <td>Yes</td>\n",
       "      <td>1768.88</td>\n",
       "    </tr>\n",
       "    <tr>\n",
       "      <th>3</th>\n",
       "      <td>4</td>\n",
       "      <td>Aviva</td>\n",
       "      <td>Ebbin</td>\n",
       "      <td>77</td>\n",
       "      <td>aebbin3@cnbc.com</td>\n",
       "      <td>Female</td>\n",
       "      <td>widowed</td>\n",
       "      <td>4</td>\n",
       "      <td>Bachelor's Degree</td>\n",
       "      <td>Unemployed</td>\n",
       "      <td>207562.31</td>\n",
       "      <td>66862.32</td>\n",
       "      <td>No</td>\n",
       "      <td>Yes</td>\n",
       "      <td>11602.86</td>\n",
       "    </tr>\n",
       "    <tr>\n",
       "      <th>4</th>\n",
       "      <td>5</td>\n",
       "      <td>Braden</td>\n",
       "      <td>Lutwyche</td>\n",
       "      <td>108</td>\n",
       "      <td>blutwyche4@booking.com</td>\n",
       "      <td>Female</td>\n",
       "      <td>single</td>\n",
       "      <td>4</td>\n",
       "      <td>High School Diploma</td>\n",
       "      <td>Retired</td>\n",
       "      <td>246503.91</td>\n",
       "      <td>NaN</td>\n",
       "      <td>No</td>\n",
       "      <td>Yes</td>\n",
       "      <td>5881.35</td>\n",
       "    </tr>\n",
       "    <tr>\n",
       "      <th>...</th>\n",
       "      <td>...</td>\n",
       "      <td>...</td>\n",
       "      <td>...</td>\n",
       "      <td>...</td>\n",
       "      <td>...</td>\n",
       "      <td>...</td>\n",
       "      <td>...</td>\n",
       "      <td>...</td>\n",
       "      <td>...</td>\n",
       "      <td>...</td>\n",
       "      <td>...</td>\n",
       "      <td>...</td>\n",
       "      <td>...</td>\n",
       "      <td>...</td>\n",
       "      <td>...</td>\n",
       "    </tr>\n",
       "    <tr>\n",
       "      <th>995</th>\n",
       "      <td>996</td>\n",
       "      <td>Ethe</td>\n",
       "      <td>Christopher</td>\n",
       "      <td>63</td>\n",
       "      <td>echristopherrn@altervista.org</td>\n",
       "      <td>Female</td>\n",
       "      <td>widowed</td>\n",
       "      <td>0</td>\n",
       "      <td>Master's Degree</td>\n",
       "      <td>Unemployed</td>\n",
       "      <td>52272.45</td>\n",
       "      <td>183208.81</td>\n",
       "      <td>No</td>\n",
       "      <td>Yes</td>\n",
       "      <td>18168.06</td>\n",
       "    </tr>\n",
       "    <tr>\n",
       "      <th>996</th>\n",
       "      <td>997</td>\n",
       "      <td>Mitzi</td>\n",
       "      <td>Elliott</td>\n",
       "      <td>43</td>\n",
       "      <td>melliottro@illinois.edu</td>\n",
       "      <td>Male</td>\n",
       "      <td>married</td>\n",
       "      <td>4</td>\n",
       "      <td>Bachelor's Degree</td>\n",
       "      <td>Unemployed</td>\n",
       "      <td>228822.80</td>\n",
       "      <td>168271.17</td>\n",
       "      <td>Yes</td>\n",
       "      <td>Yes</td>\n",
       "      <td>4064.78</td>\n",
       "    </tr>\n",
       "    <tr>\n",
       "      <th>997</th>\n",
       "      <td>998</td>\n",
       "      <td>Issiah</td>\n",
       "      <td>Edbrooke</td>\n",
       "      <td>99</td>\n",
       "      <td>iedbrookerp@shinystat.com</td>\n",
       "      <td>Male</td>\n",
       "      <td>single</td>\n",
       "      <td>3</td>\n",
       "      <td>Bachelor's Degree</td>\n",
       "      <td>Employed</td>\n",
       "      <td>229014.02</td>\n",
       "      <td>101081.94</td>\n",
       "      <td>Yes</td>\n",
       "      <td>Yes</td>\n",
       "      <td>24316.97</td>\n",
       "    </tr>\n",
       "    <tr>\n",
       "      <th>998</th>\n",
       "      <td>999</td>\n",
       "      <td>Lottie</td>\n",
       "      <td>Wimpeney</td>\n",
       "      <td>60</td>\n",
       "      <td>lwimpeneyrq@youtube.com</td>\n",
       "      <td>Female</td>\n",
       "      <td>single</td>\n",
       "      <td>3</td>\n",
       "      <td>PhD</td>\n",
       "      <td>Unemployed</td>\n",
       "      <td>161685.15</td>\n",
       "      <td>193654.15</td>\n",
       "      <td>No</td>\n",
       "      <td>No</td>\n",
       "      <td>20715.08</td>\n",
       "    </tr>\n",
       "    <tr>\n",
       "      <th>999</th>\n",
       "      <td>1000</td>\n",
       "      <td>Allyn</td>\n",
       "      <td>Lintot</td>\n",
       "      <td>113</td>\n",
       "      <td>alintotrr@geocities.jp</td>\n",
       "      <td>Male</td>\n",
       "      <td>married</td>\n",
       "      <td>0</td>\n",
       "      <td>PhD</td>\n",
       "      <td>Unemployed</td>\n",
       "      <td>85715.32</td>\n",
       "      <td>222836.02</td>\n",
       "      <td>No</td>\n",
       "      <td>Yes</td>\n",
       "      <td>18855.92</td>\n",
       "    </tr>\n",
       "  </tbody>\n",
       "</table>\n",
       "<p>1000 rows × 15 columns</p>\n",
       "</div>"
      ],
      "text/plain": [
       "       id first_name    last_name  age                          email  gender  \\\n",
       "0       1      Bevon       Tizard   60              btizard0@xing.com  Female   \n",
       "1       2       Barr        Agent   95            bagent1@auda.org.au    Male   \n",
       "2       3      Afton      Mandres   55     amandres2@reverbnation.com  Female   \n",
       "3       4      Aviva        Ebbin   77               aebbin3@cnbc.com  Female   \n",
       "4       5     Braden     Lutwyche  108         blutwyche4@booking.com  Female   \n",
       "..    ...        ...          ...  ...                            ...     ...   \n",
       "995   996       Ethe  Christopher   63  echristopherrn@altervista.org  Female   \n",
       "996   997      Mitzi      Elliott   43        melliottro@illinois.edu    Male   \n",
       "997   998     Issiah     Edbrooke   99      iedbrookerp@shinystat.com    Male   \n",
       "998   999     Lottie     Wimpeney   60        lwimpeneyrq@youtube.com  Female   \n",
       "999  1000      Allyn       Lintot  113         alintotrr@geocities.jp    Male   \n",
       "\n",
       "    marital_status  number_of_children      education_level         job  \\\n",
       "0          married                   5                  PhD  Unemployed   \n",
       "1          married                   2  High School Diploma  Unemployed   \n",
       "2         divorced                   2  High School Diploma  Unemployed   \n",
       "3          widowed                   4    Bachelor's Degree  Unemployed   \n",
       "4           single                   4  High School Diploma     Retired   \n",
       "..             ...                 ...                  ...         ...   \n",
       "995        widowed                   0      Master's Degree  Unemployed   \n",
       "996        married                   4    Bachelor's Degree  Unemployed   \n",
       "997         single                   3    Bachelor's Degree    Employed   \n",
       "998         single                   3                  PhD  Unemployed   \n",
       "999        married                   0                  PhD  Unemployed   \n",
       "\n",
       "        salary    savings housing current_loans  monthly_expenses  \n",
       "0    136225.54   36718.79     Yes            No          23426.31  \n",
       "1    198086.78  179546.81     Yes            No          15016.60  \n",
       "2    113319.98  217243.06      No           Yes           1768.88  \n",
       "3    207562.31   66862.32      No           Yes          11602.86  \n",
       "4    246503.91        NaN      No           Yes           5881.35  \n",
       "..         ...        ...     ...           ...               ...  \n",
       "995   52272.45  183208.81      No           Yes          18168.06  \n",
       "996  228822.80  168271.17     Yes           Yes           4064.78  \n",
       "997  229014.02  101081.94     Yes           Yes          24316.97  \n",
       "998  161685.15  193654.15      No            No          20715.08  \n",
       "999   85715.32  222836.02      No           Yes          18855.92  \n",
       "\n",
       "[1000 rows x 15 columns]"
      ]
     },
     "execution_count": 1,
     "metadata": {},
     "output_type": "execute_result"
    }
   ],
   "source": [
    "import pandas as pd\n",
    "\n",
    "url = \"https://raw.githubusercontent.com/JaviDoria/Credit-Card-Project/39e776fdfa8a95ecb2d8957f3b8aa626f6372d7f/MOCK_DATA.csv\"\n",
    "df = pd.read_csv(url)\n",
    "\n",
    "df"
   ]
  },
  {
   "cell_type": "markdown",
   "id": "e17136c6-9ed3-4620-a504-8232f77e4ff8",
   "metadata": {},
   "source": [
    "* To be practic I divide salary by 12 to get the monthly salary"
   ]
  },
  {
   "cell_type": "code",
   "execution_count": 2,
   "id": "485c7a4a-f76a-4a67-b28f-532d965845cf",
   "metadata": {},
   "outputs": [
    {
     "name": "stdout",
     "output_type": "stream",
     "text": [
      "       id first_name    last_name  age                          email  gender  \\\n",
      "0       1      Bevon       Tizard   60              btizard0@xing.com  Female   \n",
      "1       2       Barr        Agent   95            bagent1@auda.org.au    Male   \n",
      "2       3      Afton      Mandres   55     amandres2@reverbnation.com  Female   \n",
      "3       4      Aviva        Ebbin   77               aebbin3@cnbc.com  Female   \n",
      "4       5     Braden     Lutwyche  108         blutwyche4@booking.com  Female   \n",
      "..    ...        ...          ...  ...                            ...     ...   \n",
      "995   996       Ethe  Christopher   63  echristopherrn@altervista.org  Female   \n",
      "996   997      Mitzi      Elliott   43        melliottro@illinois.edu    Male   \n",
      "997   998     Issiah     Edbrooke   99      iedbrookerp@shinystat.com    Male   \n",
      "998   999     Lottie     Wimpeney   60        lwimpeneyrq@youtube.com  Female   \n",
      "999  1000      Allyn       Lintot  113         alintotrr@geocities.jp    Male   \n",
      "\n",
      "    marital_status  number_of_children      education_level         job  \\\n",
      "0          married                   5                  PhD  Unemployed   \n",
      "1          married                   2  High School Diploma  Unemployed   \n",
      "2         divorced                   2  High School Diploma  Unemployed   \n",
      "3          widowed                   4    Bachelor's Degree  Unemployed   \n",
      "4           single                   4  High School Diploma     Retired   \n",
      "..             ...                 ...                  ...         ...   \n",
      "995        widowed                   0      Master's Degree  Unemployed   \n",
      "996        married                   4    Bachelor's Degree  Unemployed   \n",
      "997         single                   3    Bachelor's Degree    Employed   \n",
      "998         single                   3                  PhD  Unemployed   \n",
      "999        married                   0                  PhD  Unemployed   \n",
      "\n",
      "        salary    savings housing current_loans  monthly_expenses  \\\n",
      "0    136225.54   36718.79     Yes            No          23426.31   \n",
      "1    198086.78  179546.81     Yes            No          15016.60   \n",
      "2    113319.98  217243.06      No           Yes           1768.88   \n",
      "3    207562.31   66862.32      No           Yes          11602.86   \n",
      "4    246503.91        NaN      No           Yes           5881.35   \n",
      "..         ...        ...     ...           ...               ...   \n",
      "995   52272.45  183208.81      No           Yes          18168.06   \n",
      "996  228822.80  168271.17     Yes           Yes           4064.78   \n",
      "997  229014.02  101081.94     Yes           Yes          24316.97   \n",
      "998  161685.15  193654.15      No            No          20715.08   \n",
      "999   85715.32  222836.02      No           Yes          18855.92   \n",
      "\n",
      "     current_salary  \n",
      "0          11352.13  \n",
      "1          16507.23  \n",
      "2           9443.33  \n",
      "3          17296.86  \n",
      "4          20541.99  \n",
      "..              ...  \n",
      "995         4356.04  \n",
      "996        19068.57  \n",
      "997        19084.50  \n",
      "998        13473.76  \n",
      "999         7142.94  \n",
      "\n",
      "[1000 rows x 16 columns]\n"
     ]
    }
   ],
   "source": [
    "df['current_salary'] = round(df['salary'] / 12 , 2) \n",
    "print(df)"
   ]
  },
  {
   "cell_type": "markdown",
   "id": "892b7423-414e-4d6c-aefe-e909e3ea441b",
   "metadata": {},
   "source": [
    "* Create a column current_salary where if employment equals unemployment it will be 0, for the other options it will be equal to salary."
   ]
  },
  {
   "cell_type": "code",
   "execution_count": 3,
   "id": "d24d069f-a739-4835-bfab-039430ea94e4",
   "metadata": {},
   "outputs": [
    {
     "name": "stdout",
     "output_type": "stream",
     "text": [
      "       id first_name    last_name  age                          email  gender  \\\n",
      "0       1      Bevon       Tizard   60              btizard0@xing.com  Female   \n",
      "1       2       Barr        Agent   95            bagent1@auda.org.au    Male   \n",
      "2       3      Afton      Mandres   55     amandres2@reverbnation.com  Female   \n",
      "3       4      Aviva        Ebbin   77               aebbin3@cnbc.com  Female   \n",
      "4       5     Braden     Lutwyche  108         blutwyche4@booking.com  Female   \n",
      "..    ...        ...          ...  ...                            ...     ...   \n",
      "995   996       Ethe  Christopher   63  echristopherrn@altervista.org  Female   \n",
      "996   997      Mitzi      Elliott   43        melliottro@illinois.edu    Male   \n",
      "997   998     Issiah     Edbrooke   99      iedbrookerp@shinystat.com    Male   \n",
      "998   999     Lottie     Wimpeney   60        lwimpeneyrq@youtube.com  Female   \n",
      "999  1000      Allyn       Lintot  113         alintotrr@geocities.jp    Male   \n",
      "\n",
      "    marital_status  number_of_children      education_level         job  \\\n",
      "0          married                   5                  PhD  Unemployed   \n",
      "1          married                   2  High School Diploma  Unemployed   \n",
      "2         divorced                   2  High School Diploma  Unemployed   \n",
      "3          widowed                   4    Bachelor's Degree  Unemployed   \n",
      "4           single                   4  High School Diploma     Retired   \n",
      "..             ...                 ...                  ...         ...   \n",
      "995        widowed                   0      Master's Degree  Unemployed   \n",
      "996        married                   4    Bachelor's Degree  Unemployed   \n",
      "997         single                   3    Bachelor's Degree    Employed   \n",
      "998         single                   3                  PhD  Unemployed   \n",
      "999        married                   0                  PhD  Unemployed   \n",
      "\n",
      "        salary    savings housing current_loans  monthly_expenses  \\\n",
      "0    136225.54   36718.79     Yes            No          23426.31   \n",
      "1    198086.78  179546.81     Yes            No          15016.60   \n",
      "2    113319.98  217243.06      No           Yes           1768.88   \n",
      "3    207562.31   66862.32      No           Yes          11602.86   \n",
      "4    246503.91        NaN      No           Yes           5881.35   \n",
      "..         ...        ...     ...           ...               ...   \n",
      "995   52272.45  183208.81      No           Yes          18168.06   \n",
      "996  228822.80  168271.17     Yes           Yes           4064.78   \n",
      "997  229014.02  101081.94     Yes           Yes          24316.97   \n",
      "998  161685.15  193654.15      No            No          20715.08   \n",
      "999   85715.32  222836.02      No           Yes          18855.92   \n",
      "\n",
      "     current_salary  \n",
      "0          11352.13  \n",
      "1          16507.23  \n",
      "2           9443.33  \n",
      "3          17296.86  \n",
      "4          20541.99  \n",
      "..              ...  \n",
      "995         4356.04  \n",
      "996        19068.57  \n",
      "997        19084.50  \n",
      "998        13473.76  \n",
      "999         7142.94  \n",
      "\n",
      "[1000 rows x 16 columns]\n"
     ]
    }
   ],
   "source": [
    "import numpy as np\n",
    "\n",
    "df['current_salary'] = np.where(df['job'] == 'unemployed', 0, df['current_salary'])\n",
    "\n",
    "print(df)"
   ]
  },
  {
   "cell_type": "markdown",
   "id": "98f648d2-3528-4c11-92ee-6eb56a94a6ac",
   "metadata": {},
   "source": [
    "# 2º Looking for NaN values\n"
   ]
  },
  {
   "cell_type": "code",
   "execution_count": 4,
   "id": "61d62b22-bd13-482f-b678-01a60fda4fc7",
   "metadata": {},
   "outputs": [
    {
     "data": {
      "text/plain": [
       "id                      0\n",
       "first_name              0\n",
       "last_name               0\n",
       "age                     0\n",
       "email                   0\n",
       "gender                  0\n",
       "marital_status          0\n",
       "number_of_children      0\n",
       "education_level         0\n",
       "job                     0\n",
       "salary                  0\n",
       "savings               237\n",
       "housing                 0\n",
       "current_loans           0\n",
       "monthly_expenses        0\n",
       "current_salary          0\n",
       "dtype: int64"
      ]
     },
     "execution_count": 4,
     "metadata": {},
     "output_type": "execute_result"
    }
   ],
   "source": [
    "df.isnull().sum()"
   ]
  },
  {
   "cell_type": "markdown",
   "id": "ada71f3e-b1ae-4b70-b43a-b260b04f4930",
   "metadata": {},
   "source": [
    "* A view of the records where savings is Null"
   ]
  },
  {
   "cell_type": "code",
   "execution_count": 5,
   "id": "59ca9259-3205-4ddd-8197-91acc7deaf2a",
   "metadata": {},
   "outputs": [
    {
     "name": "stdout",
     "output_type": "stream",
     "text": [
      "      id first_name   last_name  age                         email  gender  \\\n",
      "4      5     Braden    Lutwyche  108        blutwyche4@booking.com  Female   \n",
      "7      8   Christin  Vallantine  118  cvallantine7@statcounter.com  Female   \n",
      "8      9    Eduardo       Kensy  120                ekensy8@vk.com    Male   \n",
      "10    11    Everett     Lashmar   41        elashmara@trellian.com  Female   \n",
      "14    15      Angel       Keasy   56            akeasye@eepurl.com  Female   \n",
      "..   ...        ...         ...  ...                           ...     ...   \n",
      "979  980        Tim     Gasnell   35       tgasnellr7@redcross.org  Female   \n",
      "982  983      Patti      Benger   81    pbengerra@miitbeian.gov.cn  Female   \n",
      "983  984    Roderic    D'Arrigo   98           rdarrigorb@xrea.com    Male   \n",
      "986  987        Les      Stratz   92       lstratzre@cafepress.com  Female   \n",
      "987  988     Benoit    Yannikov  109     byannikovrf@bigcartel.com    Male   \n",
      "\n",
      "    marital_status  number_of_children      education_level       job  \\\n",
      "4           single                   4  High School Diploma   Retired   \n",
      "7         divorced                   5    Bachelor's Degree   Retired   \n",
      "8          married                   3                  PhD  Employed   \n",
      "10         widowed                   0                  PhD  Employed   \n",
      "14          single                   2                  PhD   Retired   \n",
      "..             ...                 ...                  ...       ...   \n",
      "979       divorced                   5      Master's Degree   Retired   \n",
      "982        married                   5  High School Diploma   Retired   \n",
      "983       divorced                   3      Master's Degree   Retired   \n",
      "986        widowed                   5      Master's Degree  Employed   \n",
      "987         single                   1      Master's Degree   Retired   \n",
      "\n",
      "        salary  savings housing current_loans  monthly_expenses  \\\n",
      "4    246503.91      NaN      No           Yes           5881.35   \n",
      "7    127073.67      NaN     Yes           Yes          20476.61   \n",
      "8    154829.94      NaN      No           Yes           4188.83   \n",
      "10   158126.18      NaN     Yes           Yes          22331.42   \n",
      "14   110610.73      NaN     Yes           Yes          19525.03   \n",
      "..         ...      ...     ...           ...               ...   \n",
      "979   61096.39      NaN     Yes           Yes           7583.16   \n",
      "982   16016.96      NaN     Yes            No          23943.74   \n",
      "983  101404.97      NaN      No           Yes          17466.63   \n",
      "986   47050.99      NaN     Yes            No          21580.78   \n",
      "987  248841.89      NaN     Yes           Yes           1403.93   \n",
      "\n",
      "     current_salary  \n",
      "4          20541.99  \n",
      "7          10589.47  \n",
      "8          12902.50  \n",
      "10         13177.18  \n",
      "14          9217.56  \n",
      "..              ...  \n",
      "979         5091.37  \n",
      "982         1334.75  \n",
      "983         8450.41  \n",
      "986         3920.92  \n",
      "987        20736.82  \n",
      "\n",
      "[237 rows x 16 columns]\n"
     ]
    }
   ],
   "source": [
    "print(df[df['savings'].isnull()])"
   ]
  },
  {
   "cell_type": "markdown",
   "id": "e54cbd2f-c8d1-4ef8-8d9a-4b8372a39ade",
   "metadata": {},
   "source": [
    "* Changing NaN for 0 "
   ]
  },
  {
   "cell_type": "code",
   "execution_count": 6,
   "id": "5706e885-a206-48b8-b6d9-4c07c08ccb96",
   "metadata": {},
   "outputs": [
    {
     "name": "stdout",
     "output_type": "stream",
     "text": [
      "       id first_name    last_name  age                          email  gender  \\\n",
      "0       1      Bevon       Tizard   60              btizard0@xing.com  Female   \n",
      "1       2       Barr        Agent   95            bagent1@auda.org.au    Male   \n",
      "2       3      Afton      Mandres   55     amandres2@reverbnation.com  Female   \n",
      "3       4      Aviva        Ebbin   77               aebbin3@cnbc.com  Female   \n",
      "4       5     Braden     Lutwyche  108         blutwyche4@booking.com  Female   \n",
      "..    ...        ...          ...  ...                            ...     ...   \n",
      "995   996       Ethe  Christopher   63  echristopherrn@altervista.org  Female   \n",
      "996   997      Mitzi      Elliott   43        melliottro@illinois.edu    Male   \n",
      "997   998     Issiah     Edbrooke   99      iedbrookerp@shinystat.com    Male   \n",
      "998   999     Lottie     Wimpeney   60        lwimpeneyrq@youtube.com  Female   \n",
      "999  1000      Allyn       Lintot  113         alintotrr@geocities.jp    Male   \n",
      "\n",
      "    marital_status  number_of_children      education_level         job  \\\n",
      "0          married                   5                  PhD  Unemployed   \n",
      "1          married                   2  High School Diploma  Unemployed   \n",
      "2         divorced                   2  High School Diploma  Unemployed   \n",
      "3          widowed                   4    Bachelor's Degree  Unemployed   \n",
      "4           single                   4  High School Diploma     Retired   \n",
      "..             ...                 ...                  ...         ...   \n",
      "995        widowed                   0      Master's Degree  Unemployed   \n",
      "996        married                   4    Bachelor's Degree  Unemployed   \n",
      "997         single                   3    Bachelor's Degree    Employed   \n",
      "998         single                   3                  PhD  Unemployed   \n",
      "999        married                   0                  PhD  Unemployed   \n",
      "\n",
      "        salary    savings housing current_loans  monthly_expenses  \\\n",
      "0    136225.54   36718.79     Yes            No          23426.31   \n",
      "1    198086.78  179546.81     Yes            No          15016.60   \n",
      "2    113319.98  217243.06      No           Yes           1768.88   \n",
      "3    207562.31   66862.32      No           Yes          11602.86   \n",
      "4    246503.91       0.00      No           Yes           5881.35   \n",
      "..         ...        ...     ...           ...               ...   \n",
      "995   52272.45  183208.81      No           Yes          18168.06   \n",
      "996  228822.80  168271.17     Yes           Yes           4064.78   \n",
      "997  229014.02  101081.94     Yes           Yes          24316.97   \n",
      "998  161685.15  193654.15      No            No          20715.08   \n",
      "999   85715.32  222836.02      No           Yes          18855.92   \n",
      "\n",
      "     current_salary  \n",
      "0          11352.13  \n",
      "1          16507.23  \n",
      "2           9443.33  \n",
      "3          17296.86  \n",
      "4          20541.99  \n",
      "..              ...  \n",
      "995         4356.04  \n",
      "996        19068.57  \n",
      "997        19084.50  \n",
      "998        13473.76  \n",
      "999         7142.94  \n",
      "\n",
      "[1000 rows x 16 columns]\n"
     ]
    }
   ],
   "source": [
    "df['savings'] = df['savings'].fillna(0)\n",
    "\n",
    "print(df)"
   ]
  },
  {
   "cell_type": "markdown",
   "id": "61187d9e-9e6b-4e3b-a8e1-f76b78b4372b",
   "metadata": {},
   "source": [
    "* Check that there are no more null values"
   ]
  },
  {
   "cell_type": "code",
   "execution_count": 7,
   "id": "736ec859-808a-4d1c-8070-de87206d701e",
   "metadata": {},
   "outputs": [
    {
     "data": {
      "text/plain": [
       "id                    0\n",
       "first_name            0\n",
       "last_name             0\n",
       "age                   0\n",
       "email                 0\n",
       "gender                0\n",
       "marital_status        0\n",
       "number_of_children    0\n",
       "education_level       0\n",
       "job                   0\n",
       "salary                0\n",
       "savings               0\n",
       "housing               0\n",
       "current_loans         0\n",
       "monthly_expenses      0\n",
       "current_salary        0\n",
       "dtype: int64"
      ]
     },
     "execution_count": 7,
     "metadata": {},
     "output_type": "execute_result"
    }
   ],
   "source": [
    "df.isnull().sum()"
   ]
  },
  {
   "cell_type": "markdown",
   "id": "a7c5897a-8f0f-4a06-a768-19152d9ae776",
   "metadata": {},
   "source": [
    "# 3º Creating the labels "
   ]
  },
  {
   "cell_type": "code",
   "execution_count": 8,
   "id": "0606967d-40de-4004-bd6d-1688cecc59fa",
   "metadata": {},
   "outputs": [
    {
     "data": {
      "text/html": [
       "<div>\n",
       "<style scoped>\n",
       "    .dataframe tbody tr th:only-of-type {\n",
       "        vertical-align: middle;\n",
       "    }\n",
       "\n",
       "    .dataframe tbody tr th {\n",
       "        vertical-align: top;\n",
       "    }\n",
       "\n",
       "    .dataframe thead th {\n",
       "        text-align: right;\n",
       "    }\n",
       "</style>\n",
       "<table border=\"1\" class=\"dataframe\">\n",
       "  <thead>\n",
       "    <tr style=\"text-align: right;\">\n",
       "      <th></th>\n",
       "      <th>id</th>\n",
       "      <th>first_name</th>\n",
       "      <th>last_name</th>\n",
       "      <th>age</th>\n",
       "      <th>email</th>\n",
       "      <th>gender</th>\n",
       "      <th>marital_status</th>\n",
       "      <th>number_of_children</th>\n",
       "      <th>education_level</th>\n",
       "      <th>job</th>\n",
       "      <th>salary</th>\n",
       "      <th>savings</th>\n",
       "      <th>housing</th>\n",
       "      <th>current_loans</th>\n",
       "      <th>monthly_expenses</th>\n",
       "      <th>current_salary</th>\n",
       "      <th>goal</th>\n",
       "    </tr>\n",
       "  </thead>\n",
       "  <tbody>\n",
       "    <tr>\n",
       "      <th>0</th>\n",
       "      <td>1</td>\n",
       "      <td>Bevon</td>\n",
       "      <td>Tizard</td>\n",
       "      <td>60</td>\n",
       "      <td>btizard0@xing.com</td>\n",
       "      <td>Female</td>\n",
       "      <td>married</td>\n",
       "      <td>5</td>\n",
       "      <td>PhD</td>\n",
       "      <td>Unemployed</td>\n",
       "      <td>136225.54</td>\n",
       "      <td>36718.79</td>\n",
       "      <td>Yes</td>\n",
       "      <td>No</td>\n",
       "      <td>23426.31</td>\n",
       "      <td>11352.13</td>\n",
       "      <td>No</td>\n",
       "    </tr>\n",
       "    <tr>\n",
       "      <th>1</th>\n",
       "      <td>2</td>\n",
       "      <td>Barr</td>\n",
       "      <td>Agent</td>\n",
       "      <td>95</td>\n",
       "      <td>bagent1@auda.org.au</td>\n",
       "      <td>Male</td>\n",
       "      <td>married</td>\n",
       "      <td>2</td>\n",
       "      <td>High School Diploma</td>\n",
       "      <td>Unemployed</td>\n",
       "      <td>198086.78</td>\n",
       "      <td>179546.81</td>\n",
       "      <td>Yes</td>\n",
       "      <td>No</td>\n",
       "      <td>15016.60</td>\n",
       "      <td>16507.23</td>\n",
       "      <td>No</td>\n",
       "    </tr>\n",
       "    <tr>\n",
       "      <th>2</th>\n",
       "      <td>3</td>\n",
       "      <td>Afton</td>\n",
       "      <td>Mandres</td>\n",
       "      <td>55</td>\n",
       "      <td>amandres2@reverbnation.com</td>\n",
       "      <td>Female</td>\n",
       "      <td>divorced</td>\n",
       "      <td>2</td>\n",
       "      <td>High School Diploma</td>\n",
       "      <td>Unemployed</td>\n",
       "      <td>113319.98</td>\n",
       "      <td>217243.06</td>\n",
       "      <td>No</td>\n",
       "      <td>Yes</td>\n",
       "      <td>1768.88</td>\n",
       "      <td>9443.33</td>\n",
       "      <td>No</td>\n",
       "    </tr>\n",
       "    <tr>\n",
       "      <th>3</th>\n",
       "      <td>4</td>\n",
       "      <td>Aviva</td>\n",
       "      <td>Ebbin</td>\n",
       "      <td>77</td>\n",
       "      <td>aebbin3@cnbc.com</td>\n",
       "      <td>Female</td>\n",
       "      <td>widowed</td>\n",
       "      <td>4</td>\n",
       "      <td>Bachelor's Degree</td>\n",
       "      <td>Unemployed</td>\n",
       "      <td>207562.31</td>\n",
       "      <td>66862.32</td>\n",
       "      <td>No</td>\n",
       "      <td>Yes</td>\n",
       "      <td>11602.86</td>\n",
       "      <td>17296.86</td>\n",
       "      <td>No</td>\n",
       "    </tr>\n",
       "    <tr>\n",
       "      <th>4</th>\n",
       "      <td>5</td>\n",
       "      <td>Braden</td>\n",
       "      <td>Lutwyche</td>\n",
       "      <td>108</td>\n",
       "      <td>blutwyche4@booking.com</td>\n",
       "      <td>Female</td>\n",
       "      <td>single</td>\n",
       "      <td>4</td>\n",
       "      <td>High School Diploma</td>\n",
       "      <td>Retired</td>\n",
       "      <td>246503.91</td>\n",
       "      <td>0.00</td>\n",
       "      <td>No</td>\n",
       "      <td>Yes</td>\n",
       "      <td>5881.35</td>\n",
       "      <td>20541.99</td>\n",
       "      <td>No</td>\n",
       "    </tr>\n",
       "    <tr>\n",
       "      <th>...</th>\n",
       "      <td>...</td>\n",
       "      <td>...</td>\n",
       "      <td>...</td>\n",
       "      <td>...</td>\n",
       "      <td>...</td>\n",
       "      <td>...</td>\n",
       "      <td>...</td>\n",
       "      <td>...</td>\n",
       "      <td>...</td>\n",
       "      <td>...</td>\n",
       "      <td>...</td>\n",
       "      <td>...</td>\n",
       "      <td>...</td>\n",
       "      <td>...</td>\n",
       "      <td>...</td>\n",
       "      <td>...</td>\n",
       "      <td>...</td>\n",
       "    </tr>\n",
       "    <tr>\n",
       "      <th>995</th>\n",
       "      <td>996</td>\n",
       "      <td>Ethe</td>\n",
       "      <td>Christopher</td>\n",
       "      <td>63</td>\n",
       "      <td>echristopherrn@altervista.org</td>\n",
       "      <td>Female</td>\n",
       "      <td>widowed</td>\n",
       "      <td>0</td>\n",
       "      <td>Master's Degree</td>\n",
       "      <td>Unemployed</td>\n",
       "      <td>52272.45</td>\n",
       "      <td>183208.81</td>\n",
       "      <td>No</td>\n",
       "      <td>Yes</td>\n",
       "      <td>18168.06</td>\n",
       "      <td>4356.04</td>\n",
       "      <td>No</td>\n",
       "    </tr>\n",
       "    <tr>\n",
       "      <th>996</th>\n",
       "      <td>997</td>\n",
       "      <td>Mitzi</td>\n",
       "      <td>Elliott</td>\n",
       "      <td>43</td>\n",
       "      <td>melliottro@illinois.edu</td>\n",
       "      <td>Male</td>\n",
       "      <td>married</td>\n",
       "      <td>4</td>\n",
       "      <td>Bachelor's Degree</td>\n",
       "      <td>Unemployed</td>\n",
       "      <td>228822.80</td>\n",
       "      <td>168271.17</td>\n",
       "      <td>Yes</td>\n",
       "      <td>Yes</td>\n",
       "      <td>4064.78</td>\n",
       "      <td>19068.57</td>\n",
       "      <td>No</td>\n",
       "    </tr>\n",
       "    <tr>\n",
       "      <th>997</th>\n",
       "      <td>998</td>\n",
       "      <td>Issiah</td>\n",
       "      <td>Edbrooke</td>\n",
       "      <td>99</td>\n",
       "      <td>iedbrookerp@shinystat.com</td>\n",
       "      <td>Male</td>\n",
       "      <td>single</td>\n",
       "      <td>3</td>\n",
       "      <td>Bachelor's Degree</td>\n",
       "      <td>Employed</td>\n",
       "      <td>229014.02</td>\n",
       "      <td>101081.94</td>\n",
       "      <td>Yes</td>\n",
       "      <td>Yes</td>\n",
       "      <td>24316.97</td>\n",
       "      <td>19084.50</td>\n",
       "      <td>No</td>\n",
       "    </tr>\n",
       "    <tr>\n",
       "      <th>998</th>\n",
       "      <td>999</td>\n",
       "      <td>Lottie</td>\n",
       "      <td>Wimpeney</td>\n",
       "      <td>60</td>\n",
       "      <td>lwimpeneyrq@youtube.com</td>\n",
       "      <td>Female</td>\n",
       "      <td>single</td>\n",
       "      <td>3</td>\n",
       "      <td>PhD</td>\n",
       "      <td>Unemployed</td>\n",
       "      <td>161685.15</td>\n",
       "      <td>193654.15</td>\n",
       "      <td>No</td>\n",
       "      <td>No</td>\n",
       "      <td>20715.08</td>\n",
       "      <td>13473.76</td>\n",
       "      <td>No</td>\n",
       "    </tr>\n",
       "    <tr>\n",
       "      <th>999</th>\n",
       "      <td>1000</td>\n",
       "      <td>Allyn</td>\n",
       "      <td>Lintot</td>\n",
       "      <td>113</td>\n",
       "      <td>alintotrr@geocities.jp</td>\n",
       "      <td>Male</td>\n",
       "      <td>married</td>\n",
       "      <td>0</td>\n",
       "      <td>PhD</td>\n",
       "      <td>Unemployed</td>\n",
       "      <td>85715.32</td>\n",
       "      <td>222836.02</td>\n",
       "      <td>No</td>\n",
       "      <td>Yes</td>\n",
       "      <td>18855.92</td>\n",
       "      <td>7142.94</td>\n",
       "      <td>No</td>\n",
       "    </tr>\n",
       "  </tbody>\n",
       "</table>\n",
       "<p>1000 rows × 17 columns</p>\n",
       "</div>"
      ],
      "text/plain": [
       "       id first_name    last_name  age                          email  gender  \\\n",
       "0       1      Bevon       Tizard   60              btizard0@xing.com  Female   \n",
       "1       2       Barr        Agent   95            bagent1@auda.org.au    Male   \n",
       "2       3      Afton      Mandres   55     amandres2@reverbnation.com  Female   \n",
       "3       4      Aviva        Ebbin   77               aebbin3@cnbc.com  Female   \n",
       "4       5     Braden     Lutwyche  108         blutwyche4@booking.com  Female   \n",
       "..    ...        ...          ...  ...                            ...     ...   \n",
       "995   996       Ethe  Christopher   63  echristopherrn@altervista.org  Female   \n",
       "996   997      Mitzi      Elliott   43        melliottro@illinois.edu    Male   \n",
       "997   998     Issiah     Edbrooke   99      iedbrookerp@shinystat.com    Male   \n",
       "998   999     Lottie     Wimpeney   60        lwimpeneyrq@youtube.com  Female   \n",
       "999  1000      Allyn       Lintot  113         alintotrr@geocities.jp    Male   \n",
       "\n",
       "    marital_status  number_of_children      education_level         job  \\\n",
       "0          married                   5                  PhD  Unemployed   \n",
       "1          married                   2  High School Diploma  Unemployed   \n",
       "2         divorced                   2  High School Diploma  Unemployed   \n",
       "3          widowed                   4    Bachelor's Degree  Unemployed   \n",
       "4           single                   4  High School Diploma     Retired   \n",
       "..             ...                 ...                  ...         ...   \n",
       "995        widowed                   0      Master's Degree  Unemployed   \n",
       "996        married                   4    Bachelor's Degree  Unemployed   \n",
       "997         single                   3    Bachelor's Degree    Employed   \n",
       "998         single                   3                  PhD  Unemployed   \n",
       "999        married                   0                  PhD  Unemployed   \n",
       "\n",
       "        salary    savings housing current_loans  monthly_expenses  \\\n",
       "0    136225.54   36718.79     Yes            No          23426.31   \n",
       "1    198086.78  179546.81     Yes            No          15016.60   \n",
       "2    113319.98  217243.06      No           Yes           1768.88   \n",
       "3    207562.31   66862.32      No           Yes          11602.86   \n",
       "4    246503.91       0.00      No           Yes           5881.35   \n",
       "..         ...        ...     ...           ...               ...   \n",
       "995   52272.45  183208.81      No           Yes          18168.06   \n",
       "996  228822.80  168271.17     Yes           Yes           4064.78   \n",
       "997  229014.02  101081.94     Yes           Yes          24316.97   \n",
       "998  161685.15  193654.15      No            No          20715.08   \n",
       "999   85715.32  222836.02      No           Yes          18855.92   \n",
       "\n",
       "     current_salary goal  \n",
       "0          11352.13   No  \n",
       "1          16507.23   No  \n",
       "2           9443.33   No  \n",
       "3          17296.86   No  \n",
       "4          20541.99   No  \n",
       "..              ...  ...  \n",
       "995         4356.04   No  \n",
       "996        19068.57   No  \n",
       "997        19084.50   No  \n",
       "998        13473.76   No  \n",
       "999         7142.94   No  \n",
       "\n",
       "[1000 rows x 17 columns]"
      ]
     },
     "execution_count": 8,
     "metadata": {},
     "output_type": "execute_result"
    }
   ],
   "source": [
    "import numpy as np\n",
    "\n",
    "df['goal'] = np.where(\n",
    "    (df['current_salary'] > 0) & \n",
    "    (df['number_of_children'] < 3) & \n",
    "    ((df['monthly_expenses'] * 12) < df['salary']) &\n",
    "    (df['housing'] == 'No') &\n",
    "    (df['current_loans'] == 'No'),\n",
    "    'Yes',\n",
    "    'No'\n",
    ")\n",
    "\n",
    "\n",
    "df"
   ]
  },
  {
   "cell_type": "markdown",
   "id": "4fd51671-3abe-4765-9f50-c28ea2d9659c",
   "metadata": {},
   "source": [
    "# 4º Selection of the columns for the model"
   ]
  },
  {
   "cell_type": "code",
   "execution_count": 9,
   "id": "d2a6a9b6-da41-46ad-aacf-9267946540e1",
   "metadata": {},
   "outputs": [
    {
     "name": "stdout",
     "output_type": "stream",
     "text": [
      "<class 'pandas.core.frame.DataFrame'>\n",
      "RangeIndex: 1000 entries, 0 to 999\n",
      "Data columns (total 7 columns):\n",
      " #   Column              Non-Null Count  Dtype  \n",
      "---  ------              --------------  -----  \n",
      " 0   number_of_children  1000 non-null   int64  \n",
      " 1   current_salary      1000 non-null   float64\n",
      " 2   savings             1000 non-null   float64\n",
      " 3   housing             1000 non-null   object \n",
      " 4   current_loans       1000 non-null   object \n",
      " 5   monthly_expenses    1000 non-null   float64\n",
      " 6   goal                1000 non-null   object \n",
      "dtypes: float64(3), int64(1), object(3)\n",
      "memory usage: 54.8+ KB\n"
     ]
    }
   ],
   "source": [
    "df = df[['number_of_children','current_salary','savings','housing','current_loans','monthly_expenses','goal']]\n",
    "\n",
    "df.info()"
   ]
  },
  {
   "cell_type": "markdown",
   "id": "7f633431-cc46-4785-bedd-0471977cbc63",
   "metadata": {},
   "source": [
    "# 5º Looking for outliers"
   ]
  },
  {
   "cell_type": "code",
   "execution_count": 10,
   "id": "fb91d232-90cc-4b04-8da1-91b9f223ab25",
   "metadata": {},
   "outputs": [
    {
     "name": "stdout",
     "output_type": "stream",
     "text": [
      "Outliers detectados en 'number_of_children':\n",
      "Series([], Name: number_of_children, dtype: int64)\n"
     ]
    },
    {
     "data": {
      "image/png": "[encoded data removed]",
      "text/plain": [
       "<Figure size 800x600 with 1 Axes>"
      ]
     },
     "metadata": {},
     "output_type": "display_data"
    },
    {
     "name": "stdout",
     "output_type": "stream",
     "text": [
      "Outliers detectados en 'current_salary':\n",
      "Series([], Name: current_salary, dtype: float64)\n"
     ]
    },
    {
     "data": {
      "image/png": "[encoded data removed]",
      "text/plain": [
       "<Figure size 800x600 with 1 Axes>"
      ]
     },
     "metadata": {},
     "output_type": "display_data"
    },
    {
     "name": "stdout",
     "output_type": "stream",
     "text": [
      "Outliers detectados en 'savings':\n",
      "Series([], Name: savings, dtype: float64)\n"
     ]
    },
    {
     "data": {
      "image/png": "[encoded data removed]",
      "text/plain": [
       "<Figure size 800x600 with 1 Axes>"
      ]
     },
     "metadata": {},
     "output_type": "display_data"
    },
    {
     "name": "stdout",
     "output_type": "stream",
     "text": [
      "Outliers detectados en 'monthly_expenses':\n",
      "Series([], Name: monthly_expenses, dtype: float64)\n"
     ]
    },
    {
     "data": {
      "image/png": "[encoded data removed]",
      "text/plain": [
       "<Figure size 800x600 with 1 Axes>"
      ]
     },
     "metadata": {},
     "output_type": "display_data"
    }
   ],
   "source": [
    "import matplotlib.pyplot as plt \n",
    "\n",
    "numeric_columns = df.select_dtypes(include=[np.number]).columns\n",
    "\n",
    "for column in numeric_columns:\n",
    "    Q1 = df[column].quantile(0.25)\n",
    "    Q3 = df[column].quantile(0.75)\n",
    "    IQR = Q3 - Q1\n",
    "    lower_limit = Q1 - 1.5 * IQR\n",
    "    upper_limit = Q3 + 1.5 * IQR\n",
    "    \n",
    "    outliers = df[(df[column] < lower_limit) | (df[column] > upper_limit)][column]\n",
    "    print(f\"Outliers detectados en '{column}':\")\n",
    "    print(outliers)\n",
    "    \n",
    "    plt.figure(figsize=(8, 6))\n",
    "    plt.boxplot(df[column], vert=False)\n",
    "    plt.title(f'Boxplot de {column}')\n",
    "    plt.xlabel(column)\n",
    "    plt.show()"
   ]
  },
  {
   "cell_type": "markdown",
   "id": "4bd1e90f-11c4-4617-a7ba-0ff349c60bd0",
   "metadata": {},
   "source": [
    "# 6º Dataset split"
   ]
  },
  {
   "cell_type": "code",
   "execution_count": 11,
   "id": "17ddbf01-bd19-4310-bdca-e4299a4cf314",
   "metadata": {},
   "outputs": [
    {
     "name": "stdout",
     "output_type": "stream",
     "text": [
      "Training data contains 800 rows, 6 features and 1 label.\n",
      "Test data contains 200 rows, 6 features and 1 label.\n"
     ]
    }
   ],
   "source": [
    "from sklearn.model_selection import train_test_split\n",
    "\n",
    "df_copy = df\n",
    "\n",
    "X = df_copy.loc[:, ['number_of_children','current_salary','savings','housing','current_loans','monthly_expenses']]\n",
    "Y = df_copy.loc[:, ['goal']]\n",
    "\n",
    "X_train, X_test, Y_train, Y_test = train_test_split(X, Y, test_size=0.2, random_state=0, stratify=Y)\n",
    "\n",
    "print(f'Training data contains {X_train.shape[0]} rows, {X_train.shape[1]} features and {Y_train.shape[1]} label.')\n",
    "print(f'Test data contains {X_test.shape[0]} rows, {X_test.shape[1]} features and {Y_test.shape[1]} label.')"
   ]
  },
  {
   "cell_type": "markdown",
   "id": "9ccc9943-1e7e-44a7-a8af-4698d0f34eda",
   "metadata": {},
   "source": [
    "# 7º  Coding of Categorical variables"
   ]
  },
  {
   "cell_type": "code",
   "execution_count": 12,
   "id": "142ddd04-b904-4748-9a6a-73a61e509d8f",
   "metadata": {},
   "outputs": [
    {
     "name": "stdout",
     "output_type": "stream",
     "text": [
      "The variable HOUSING has a total of 2 features     \n",
      "housing\n",
      "No     504\n",
      "Yes    496\n",
      "Name: count, dtype: int64    \n",
      " \n",
      "------------------------\n",
      "\n",
      "The variable CURRENT_LOANS has a total of 2 features     \n",
      "current_loans\n",
      "Yes    513\n",
      "No     487\n",
      "Name: count, dtype: int64    \n",
      " \n",
      "------------------------\n",
      "\n",
      "The variable GOAL has a total of 2 features     \n",
      "goal\n",
      "No     948\n",
      "Yes     52\n",
      "Name: count, dtype: int64    \n",
      " \n",
      "------------------------\n",
      "\n"
     ]
    }
   ],
   "source": [
    "for column in df_copy.select_dtypes(include=['object']).columns:\n",
    "    \n",
    "    print(f\"The variable {column.upper()} has a total of {df_copy[column].nunique()} features \\\n",
    "    \\n{df_copy[column].value_counts()}\\\n",
    "    \\n \\n------------------------\\n\")"
   ]
  },
  {
   "cell_type": "markdown",
   "id": "65450372-4681-45e7-8e73-f842032d4c21",
   "metadata": {},
   "source": [
    "* Execute Label Encoding"
   ]
  },
  {
   "cell_type": "code",
   "execution_count": 13,
   "id": "c9991605-2cfc-4183-86d2-121a1d5b9aee",
   "metadata": {},
   "outputs": [
    {
     "name": "stdout",
     "output_type": "stream",
     "text": [
      "     number_of_children  current_salary    savings  housing  current_loans  \\\n",
      "719                   0         2543.15   47438.04        0              1   \n",
      "813                   5        11887.73  236134.84        0              0   \n",
      "735                   0         2986.30   77084.96        1              1   \n",
      "830                   5        20418.67       0.00        0              0   \n",
      "516                   3        16293.13   96482.10        1              0   \n",
      "..                  ...             ...        ...      ...            ...   \n",
      "543                   4         6286.70  213090.51        0              0   \n",
      "168                   1        19848.68  189148.47        0              0   \n",
      "466                   1        18986.81  119268.88        1              1   \n",
      "348                   2         8542.98    1789.01        0              1   \n",
      "272                   4        13713.92       0.00        1              1   \n",
      "\n",
      "     monthly_expenses  \n",
      "719          13131.84  \n",
      "813          21554.31  \n",
      "735          18983.31  \n",
      "830          18925.64  \n",
      "516          18635.04  \n",
      "..                ...  \n",
      "543          16556.15  \n",
      "168          21043.63  \n",
      "466          23028.29  \n",
      "348          24046.29  \n",
      "272           2226.77  \n",
      "\n",
      "[800 rows x 6 columns]\n"
     ]
    }
   ],
   "source": [
    "binary_variable = ['housing', 'current_loans']\n",
    "\n",
    "for variable in binary_variable:\n",
    "    X_train[variable] = X_train[variable].map({'No': 0, 'Yes': 1}).astype(int)\n",
    "    X_test[variable] = X_test[variable].map({'No': 0, 'Yes': 1}).astype(int)\n",
    "\n",
    "Y_train['goal'] = Y_train['goal'].map({'No': 0, 'Yes': 1}).astype(int)\n",
    "Y_test['goal'] = Y_test['goal'].map({'No': 0, 'Yes': 1}).astype(int)\n",
    "print(X_train)"
   ]
  },
  {
   "cell_type": "markdown",
   "id": "d1e88d9c-3f26-4931-bdcd-fda01f2784c8",
   "metadata": {},
   "source": [
    "# 8º I proceed to standardize the numerical variables:"
   ]
  },
  {
   "cell_type": "code",
   "execution_count": 14,
   "id": "84ea1ca2-261b-4da0-874b-0819c2354c1b",
   "metadata": {},
   "outputs": [
    {
     "data": {
      "text/html": [
       "<div>\n",
       "<style scoped>\n",
       "    .dataframe tbody tr th:only-of-type {\n",
       "        vertical-align: middle;\n",
       "    }\n",
       "\n",
       "    .dataframe tbody tr th {\n",
       "        vertical-align: top;\n",
       "    }\n",
       "\n",
       "    .dataframe thead th {\n",
       "        text-align: right;\n",
       "    }\n",
       "</style>\n",
       "<table border=\"1\" class=\"dataframe\">\n",
       "  <thead>\n",
       "    <tr style=\"text-align: right;\">\n",
       "      <th></th>\n",
       "      <th>number_of_children</th>\n",
       "      <th>current_salary</th>\n",
       "      <th>savings</th>\n",
       "      <th>monthly_expenses</th>\n",
       "    </tr>\n",
       "  </thead>\n",
       "  <tbody>\n",
       "    <tr>\n",
       "      <th>719</th>\n",
       "      <td>-1.477625</td>\n",
       "      <td>-1.439608</td>\n",
       "      <td>-0.578094</td>\n",
       "      <td>0.073169</td>\n",
       "    </tr>\n",
       "    <tr>\n",
       "      <th>813</th>\n",
       "      <td>1.428226</td>\n",
       "      <td>0.151230</td>\n",
       "      <td>1.677097</td>\n",
       "      <td>1.226702</td>\n",
       "    </tr>\n",
       "    <tr>\n",
       "      <th>735</th>\n",
       "      <td>-1.477625</td>\n",
       "      <td>-1.364166</td>\n",
       "      <td>-0.223772</td>\n",
       "      <td>0.874580</td>\n",
       "    </tr>\n",
       "    <tr>\n",
       "      <th>830</th>\n",
       "      <td>1.428226</td>\n",
       "      <td>1.603552</td>\n",
       "      <td>-1.145045</td>\n",
       "      <td>0.866682</td>\n",
       "    </tr>\n",
       "    <tr>\n",
       "      <th>516</th>\n",
       "      <td>0.265885</td>\n",
       "      <td>0.901213</td>\n",
       "      <td>0.008051</td>\n",
       "      <td>0.826882</td>\n",
       "    </tr>\n",
       "  </tbody>\n",
       "</table>\n",
       "</div>"
      ],
      "text/plain": [
       "     number_of_children  current_salary   savings  monthly_expenses\n",
       "719           -1.477625       -1.439608 -0.578094          0.073169\n",
       "813            1.428226        0.151230  1.677097          1.226702\n",
       "735           -1.477625       -1.364166 -0.223772          0.874580\n",
       "830            1.428226        1.603552 -1.145045          0.866682\n",
       "516            0.265885        0.901213  0.008051          0.826882"
      ]
     },
     "execution_count": 14,
     "metadata": {},
     "output_type": "execute_result"
    }
   ],
   "source": [
    "from sklearn.preprocessing import StandardScaler\n",
    "\n",
    "numeric_columns = X_train.select_dtypes(include=['float64', 'int64']).columns.tolist()\n",
    "\n",
    "scaler = StandardScaler()\n",
    "\n",
    "X_train[numeric_columns] = scaler.fit_transform(X_train[numeric_columns])\n",
    "X_test[numeric_columns] = scaler.transform(X_test[numeric_columns])\n",
    "\n",
    "X_train[numeric_columns].head()"
   ]
  },
  {
   "cell_type": "markdown",
   "id": "1abb233e-e2f6-44ae-a92e-164b58429d72",
   "metadata": {},
   "source": [
    "* Checking the current status of the DF"
   ]
  },
  {
   "cell_type": "code",
   "execution_count": 15,
   "id": "38d24311-8e9c-4e49-88a0-7f52fa0fee44",
   "metadata": {},
   "outputs": [
    {
     "data": {
      "text/html": [
       "<div>\n",
       "<style scoped>\n",
       "    .dataframe tbody tr th:only-of-type {\n",
       "        vertical-align: middle;\n",
       "    }\n",
       "\n",
       "    .dataframe tbody tr th {\n",
       "        vertical-align: top;\n",
       "    }\n",
       "\n",
       "    .dataframe thead th {\n",
       "        text-align: right;\n",
       "    }\n",
       "</style>\n",
       "<table border=\"1\" class=\"dataframe\">\n",
       "  <thead>\n",
       "    <tr style=\"text-align: right;\">\n",
       "      <th></th>\n",
       "      <th>number_of_children</th>\n",
       "      <th>current_salary</th>\n",
       "      <th>savings</th>\n",
       "      <th>housing</th>\n",
       "      <th>current_loans</th>\n",
       "      <th>monthly_expenses</th>\n",
       "    </tr>\n",
       "  </thead>\n",
       "  <tbody>\n",
       "    <tr>\n",
       "      <th>719</th>\n",
       "      <td>-1.477625</td>\n",
       "      <td>-1.439608</td>\n",
       "      <td>-0.578094</td>\n",
       "      <td>0</td>\n",
       "      <td>1</td>\n",
       "      <td>0.073169</td>\n",
       "    </tr>\n",
       "    <tr>\n",
       "      <th>813</th>\n",
       "      <td>1.428226</td>\n",
       "      <td>0.151230</td>\n",
       "      <td>1.677097</td>\n",
       "      <td>0</td>\n",
       "      <td>0</td>\n",
       "      <td>1.226702</td>\n",
       "    </tr>\n",
       "    <tr>\n",
       "      <th>735</th>\n",
       "      <td>-1.477625</td>\n",
       "      <td>-1.364166</td>\n",
       "      <td>-0.223772</td>\n",
       "      <td>1</td>\n",
       "      <td>1</td>\n",
       "      <td>0.874580</td>\n",
       "    </tr>\n",
       "    <tr>\n",
       "      <th>830</th>\n",
       "      <td>1.428226</td>\n",
       "      <td>1.603552</td>\n",
       "      <td>-1.145045</td>\n",
       "      <td>0</td>\n",
       "      <td>0</td>\n",
       "      <td>0.866682</td>\n",
       "    </tr>\n",
       "    <tr>\n",
       "      <th>516</th>\n",
       "      <td>0.265885</td>\n",
       "      <td>0.901213</td>\n",
       "      <td>0.008051</td>\n",
       "      <td>1</td>\n",
       "      <td>0</td>\n",
       "      <td>0.826882</td>\n",
       "    </tr>\n",
       "  </tbody>\n",
       "</table>\n",
       "</div>"
      ],
      "text/plain": [
       "     number_of_children  current_salary   savings  housing  current_loans  \\\n",
       "719           -1.477625       -1.439608 -0.578094        0              1   \n",
       "813            1.428226        0.151230  1.677097        0              0   \n",
       "735           -1.477625       -1.364166 -0.223772        1              1   \n",
       "830            1.428226        1.603552 -1.145045        0              0   \n",
       "516            0.265885        0.901213  0.008051        1              0   \n",
       "\n",
       "     monthly_expenses  \n",
       "719          0.073169  \n",
       "813          1.226702  \n",
       "735          0.874580  \n",
       "830          0.866682  \n",
       "516          0.826882  "
      ]
     },
     "execution_count": 15,
     "metadata": {},
     "output_type": "execute_result"
    }
   ],
   "source": [
    "X_train.head()"
   ]
  },
  {
   "cell_type": "markdown",
   "id": "26c4e457-f640-43bc-a214-f9269ce77501",
   "metadata": {},
   "source": [
    "# 9º Trainning a Logistic Regression model"
   ]
  },
  {
   "cell_type": "code",
   "execution_count": 16,
   "id": "fb9e9399-30e7-4cd8-a437-0c6d1e5e12f6",
   "metadata": {},
   "outputs": [
    {
     "name": "stdout",
     "output_type": "stream",
     "text": [
      "Accuracy: 0.97\n"
     ]
    },
    {
     "name": "stderr",
     "output_type": "stream",
     "text": [
      "C:\\Users\\javie\\anaconda3\\envs\\entorno_ML\\Lib\\site-packages\\sklearn\\utils\\validation.py:1339: DataConversionWarning: A column-vector y was passed when a 1d array was expected. Please change the shape of y to (n_samples, ), for example using ravel().\n",
      "  y = column_or_1d(y, warn=True)\n"
     ]
    }
   ],
   "source": [
    "from sklearn.linear_model import LogisticRegression\n",
    "from sklearn.metrics import accuracy_score\n",
    "\n",
    "model = LogisticRegression()\n",
    "\n",
    "model.fit(X_train, Y_train)\n",
    "\n",
    "Y_pred = model.predict(X_test)\n",
    "\n",
    "accuracy = accuracy_score(Y_test, Y_pred)\n",
    "print(\"Accuracy:\", accuracy)"
   ]
  },
  {
   "cell_type": "markdown",
   "id": "f74b0834-bcc5-416c-9d47-27e7fe9a7ecb",
   "metadata": {},
   "source": [
    "# 10º Evaluating model performance"
   ]
  },
  {
   "cell_type": "code",
   "execution_count": 17,
   "id": "4d0720d9-9d1d-4fdb-9e7b-13ddd095aad9",
   "metadata": {},
   "outputs": [
    {
     "data": {
      "image/png": "[encoded data removed]",
      "text/plain": [
       "<Figure size 640x480 with 2 Axes>"
      ]
     },
     "metadata": {},
     "output_type": "display_data"
    }
   ],
   "source": [
    "from sklearn.metrics import confusion_matrix\n",
    "import seaborn as sns\n",
    "import matplotlib.pyplot as plt\n",
    "\n",
    "# Calcular la matriz de confusión\n",
    "cm = confusion_matrix(Y_test, Y_pred)\n",
    "\n",
    "# Crear un heatmap para visualizar la matriz\n",
    "sns.heatmap(cm, annot=True, fmt='d', cmap='Blues')\n",
    "plt.xlabel('Predictions')\n",
    "plt.ylabel('Real Values')\n",
    "plt.title('Confusion Matrix')\n",
    "plt.show()"
   ]
  },
  {
   "cell_type": "markdown",
   "id": "986b1acc-c9d6-4c05-ae5c-2f8ce7b94605",
   "metadata": {},
   "source": [
    "* Precision"
   ]
  },
  {
   "cell_type": "code",
   "execution_count": 18,
   "id": "d923c296-31a9-4a05-a6bb-7505e1841bb1",
   "metadata": {},
   "outputs": [
    {
     "name": "stdout",
     "output_type": "stream",
     "text": [
      "1.0\n"
     ]
    }
   ],
   "source": [
    "from sklearn.metrics import precision_score\n",
    "\n",
    "precision = precision_score(Y_test, Y_pred)\n",
    "print(precision)"
   ]
  },
  {
   "cell_type": "markdown",
   "id": "967ee390-8336-48b9-99be-bf02c6549afe",
   "metadata": {},
   "source": [
    "* Recall"
   ]
  },
  {
   "cell_type": "code",
   "execution_count": 19,
   "id": "d9f485b8-947d-4f6c-a910-28a489bb067a",
   "metadata": {},
   "outputs": [
    {
     "name": "stdout",
     "output_type": "stream",
     "text": [
      "Recall: 0.4\n"
     ]
    }
   ],
   "source": [
    "from sklearn.metrics import recall_score\n",
    "\n",
    "sensitivity = recall_score(Y_test, Y_pred)\n",
    "print(\"Recall:\", sensitivity)"
   ]
  },
  {
   "cell_type": "markdown",
   "id": "3a78cddd-d9f7-4590-80d6-db09d839c618",
   "metadata": {},
   "source": [
    "* F1 Score"
   ]
  },
  {
   "cell_type": "code",
   "execution_count": 20,
   "id": "14a2e0c7-88c4-4261-b0fa-1b0585fba3d5",
   "metadata": {},
   "outputs": [
    {
     "name": "stdout",
     "output_type": "stream",
     "text": [
      "F1-score: 0.5714285714285714\n"
     ]
    }
   ],
   "source": [
    "from sklearn.metrics import f1_score\n",
    "\n",
    "f1 = f1_score(Y_test, Y_pred)\n",
    "print(\"F1-score:\", f1)"
   ]
  },
  {
   "cell_type": "code",
   "execution_count": 23,
   "id": "1dc17652-e427-4fe7-86d6-fb67c14ef5d6",
   "metadata": {},
   "outputs": [
    {
     "name": "stdout",
     "output_type": "stream",
     "text": [
      "\n",
      "Coeficientes del modelo:\n",
      "              Feature  Coefficient\n",
      "3             housing    -3.376264\n",
      "4       current_loans    -3.266608\n",
      "0  number_of_children    -1.785842\n",
      "5    monthly_expenses    -1.383543\n",
      "1      current_salary     0.870108\n",
      "2             savings     0.024259\n"
     ]
    },
    {
     "data": {
      "image/png": "[encoded data removed]",
      "text/plain": [
       "<Figure size 1000x600 with 1 Axes>"
      ]
     },
     "metadata": {},
     "output_type": "display_data"
    }
   ],
   "source": [
    "coefficients = model.coef_[0]  \n",
    "\n",
    "features = X_train.columns if hasattr(X_train, 'columns') else [f'feature_{i}' for i in range(X_train.shape[1])]\n",
    "coef_df = pd.DataFrame({\n",
    "    'Feature': features,\n",
    "    'Coefficient': coefficients\n",
    "})\n",
    "\n",
    "coef_df = coef_df.reindex(coef_df['Coefficient'].abs().sort_values(ascending=False).index)\n",
    "\n",
    "print(\"\\nCoeficientes del modelo:\")\n",
    "print(coef_df)\n",
    "\n",
    "plt.figure(figsize=(10, 6))\n",
    "plt.barh(coef_df['Feature'], coef_df['Coefficient'], color='b', alpha=0.7)\n",
    "plt.xlabel('Coefficient Value')\n",
    "plt.ylabel('Feature')\n",
    "plt.title('Feature Importance in Logistic Regression')\n",
    "plt.gca().invert_yaxis()  \n",
    "plt.tight_layout()\n",
    "plt.show()"
   ]
  },
  {
   "cell_type": "markdown",
   "id": "54ccf6ce-f77a-418f-b946-aab6a82d9ea2",
   "metadata": {},
   "source": [
    "# 11º Model And Scaler"
   ]
  },
  {
   "cell_type": "code",
   "execution_count": 24,
   "id": "1ff89ee9-c1a1-453c-9169-1f2672791bd8",
   "metadata": {},
   "outputs": [],
   "source": [
    "import pickle\n",
    "\n",
    "with open('logistic_model.pkl', 'wb') as model_file:\n",
    "    pickle.dump(LogisticRegression, model_file)\n",
    "\n",
    "with open('scaler.pkl', 'wb') as scaler_file:\n",
    "    pickle.dump(scaler, scaler_file)\n"
   ]
  }
 ],
 "metadata": {
  "kernelspec": {
   "display_name": "Python 3 (ipykernel)",
   "language": "python",
   "name": "python3"
  },
  "language_info": {
   "codemirror_mode": {
    "name": "ipython",
    "version": 3
   },
   "file_extension": ".py",
   "mimetype": "text/x-python",
   "name": "python",
   "nbconvert_exporter": "python",
   "pygments_lexer": "ipython3",
   "version": "3.12.5"
  }
 },
 "nbformat": 4,
 "nbformat_minor": 5
}
